{
    "nbformat_minor": 1, 
    "cells": [
        {
            "source": "## Project Details.\n\nThe New York Neighborhood data will be gathered from below website in a Json format. \nNeighborhood Data source: https://geo.nyu.edu/catalog/nyu_2451_34572 This Neighborhood data will be normalized with key fields \u201cBorough\u201d, \u201cNeighborhood\u201d, \u201cLatitude\u201d and \u201cLongitude\u201d. Data Frame will be created with Neighborhood data.\n\n#### Explore Neighborhood:\nFourSquare API will be used to explore schools near each New York neighborhood. This data needs to analyzed and find the frequency of schools available in each Neighborhood. https://api.foursquare.com/v2/venues/explore?\n\n\n#### Data Analysis:\nThe data sources are in JSON format. All data will be normalized into table format in order to analyze it. \nGeopy library to get the latitude and longitude values of New York City Folium visualization library to display the data in the map, each circle mark to reveal the name of the neighborhood and its respective borough, for illustration purposes, simplified the map and segment and cluster only the neighborhoods. Machine learnings: K-means Clustering algorithm is used in this project. The data are clustered based on the similarity. There are 5 cluster used in this project to cluster the data.\n    \n", 
            "cell_type": "markdown", 
            "metadata": {
                "collapsed": true
            }
        }, 
        {
            "source": "", 
            "cell_type": "code", 
            "metadata": {}, 
            "outputs": [], 
            "execution_count": null
        }
    ], 
    "metadata": {
        "kernelspec": {
            "display_name": "Python 3.5", 
            "name": "python3", 
            "language": "python"
        }, 
        "language_info": {
            "mimetype": "text/x-python", 
            "nbconvert_exporter": "python", 
            "version": "3.5.5", 
            "name": "python", 
            "pygments_lexer": "ipython3", 
            "file_extension": ".py", 
            "codemirror_mode": {
                "version": 3, 
                "name": "ipython"
            }
        }
    }, 
    "nbformat": 4
}