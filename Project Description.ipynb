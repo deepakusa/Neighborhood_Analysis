{
    "nbformat_minor": 1, 
    "cells": [
        {
            "source": "# Introduction/Business Problem\n\n### Best school Neighborhood\n\n#### Project is focused on the identifying the best school neighborhood in New York city.\n\n#### Benefit : Families moving to New York city wants to select best neighborhood with good schools around.\n\nThis project is for the people who are moving to New York city wants to know the best Neighborhood for the families with schools around the Neighborhood. This project will focus on schools that are available New York Neighborhood. This project will benefit the people who is looking for Neighborhood with best schools around it. This project will benefit the people who are looking for good school\u2019s neighborhood in New York. People will more interested to select neighborhood which has more good schools around the neighborhood. The investment people make in good school neighborhood will turn good profit for long term. So helping people who need to find good neighborhood.\n\n\n\n\n", 
            "cell_type": "markdown", 
            "metadata": {
                "collapsed": true
            }
        }, 
        {
            "source": "", 
            "cell_type": "code", 
            "metadata": {}, 
            "outputs": [], 
            "execution_count": null
        }
    ], 
    "metadata": {
        "kernelspec": {
            "display_name": "Python 3.5", 
            "name": "python3", 
            "language": "python"
        }, 
        "language_info": {
            "mimetype": "text/x-python", 
            "nbconvert_exporter": "python", 
            "version": "3.5.5", 
            "name": "python", 
            "file_extension": ".py", 
            "pygments_lexer": "ipython3", 
            "codemirror_mode": {
                "version": 3, 
                "name": "ipython"
            }
        }
    }, 
    "nbformat": 4
}