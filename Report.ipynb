{
    "nbformat_minor": 1, 
    "cells": [
        {
            "source": "# Introduction: \nThis project is for the people who are moving to New York city wants to know the good Neighborhood for the families with schools around the Neighborhood. This project will focus on schools that are available New York Neighborhood.  This project will benefit the people who is looking for Neighborhood with schools around it.\nThis project will befit the people who are looking for good school\u2019s neighborhood in New York.\nData Source:\nThe New York Neighborhood data will be gathered from below website in a Json format.\nNeighborhood data source: https://geo.nyu.edu/catalog/nyu_2451_34572\nThis Neighborhood data will be normalized with key fields \u201cBorough\u201d, \u201cNeighborhood\u201d, \u201cLatitude\u201d and \u201cLongitude\u201d. Data Frame will be created with Neighborhood data.\n\n### Explore Neighborhood:\nFourSquare API will be used to explore schools near each New York neighborhood. This data needs to analyzed and find the frequency of schools available in each Neighborhood.\nhttps://api.foursquare.com/v2/venues/explore?\n\n\n### Data Analysis:\n\tThe data sources are in JSON format; the data are normalized into table format in order to analyze it. \n Geopy library to get the latitude and longitude values of New York City\nFolium  visualization library to display the data in the map, each circle mark to reveal the name of the neighborhood and its respective borough, for illustration purposes, simplified the map and segment and cluster only the neighborhoods.\nMachine learnings:\n\tK-means Clustering algorithm is used in this project. The data are clustered based on the similarity. There are 5 cluster used in this project to cluster the data.\n\n### Results \n\tThe result of the project gives the schools the near to each neighborhood. The type of schools also clearly listed. This data can be used for the people who wants to select the neighborhood based on the school\u2019s availability.\nDiscussion:\n\tThe neighborhood and school data are retried from Foursquare. We can add more criteria like crime, bus stop, restaurant details to make it more informative for the people who likes to find good neighborhood in New York.   \n\n### Conclusion:\n\tThis project result will be affectivity used by people who are moving to New York with family/kids. People can find the right neighborhood based on the school data for each neighborhood. \n\n\n\n", 
            "cell_type": "markdown", 
            "metadata": {
                "collapsed": true
            }
        }
    ], 
    "metadata": {
        "kernelspec": {
            "display_name": "Python 3.5", 
            "name": "python3", 
            "language": "python"
        }, 
        "language_info": {
            "mimetype": "text/x-python", 
            "nbconvert_exporter": "python", 
            "version": "3.5.5", 
            "name": "python", 
            "file_extension": ".py", 
            "pygments_lexer": "ipython3", 
            "codemirror_mode": {
                "version": 3, 
                "name": "ipython"
            }
        }
    }, 
    "nbformat": 4
}